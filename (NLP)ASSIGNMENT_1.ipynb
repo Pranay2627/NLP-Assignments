{
  "nbformat": 4,
  "nbformat_minor": 0,
  "metadata": {
    "colab": {
      "name": "(NLP)ASSIGNMENT-1.ipynb",
      "provenance": [],
      "authorship_tag": "ABX9TyOoYl3ozW2nVje85Fg+JwNd",
      "include_colab_link": true
    },
    "kernelspec": {
      "name": "python3",
      "display_name": "Python 3"
    },
    "language_info": {
      "name": "python"
    }
  },
  "cells": [
    {
      "cell_type": "markdown",
      "metadata": {
        "id": "view-in-github",
        "colab_type": "text"
      },
      "source": [
        "<a href=\"https://colab.research.google.com/github/Pranay2627/NLP-Assignments/blob/main/(NLP)ASSIGNMENT_1.ipynb\" target=\"_parent\"><img src=\"https://colab.research.google.com/assets/colab-badge.svg\" alt=\"Open In Colab\"/></a>"
      ]
    },
    {
      "cell_type": "code",
      "execution_count": 8,
      "metadata": {
        "colab": {
          "base_uri": "https://localhost:8080/"
        },
        "id": "GAkGOwO8Qzdz",
        "outputId": "6943deb8-1b87-455f-d99f-54e4bf3b325a"
      },
      "outputs": [
        {
          "output_type": "stream",
          "name": "stdout",
          "text": [
            "Requirement already satisfied: nltk in /root/.local/lib/python3.7/site-packages (3.6.7)\n",
            "Requirement already satisfied: joblib in /usr/local/lib/python3.7/dist-packages (from nltk) (1.1.0)\n",
            "Requirement already satisfied: tqdm in /usr/local/lib/python3.7/dist-packages (from nltk) (4.62.3)\n",
            "Requirement already satisfied: regex>=2021.8.3 in /root/.local/lib/python3.7/site-packages (from nltk) (2022.1.18)\n",
            "Requirement already satisfied: click in /usr/local/lib/python3.7/dist-packages (from nltk) (7.1.2)\n",
            "[nltk_data] Downloading package punkt to /root/nltk_data...\n",
            "[nltk_data]   Package punkt is already up-to-date!\n",
            "['Hi']\n",
            "['everyone']\n",
            "['this']\n",
            "['is']\n",
            "['Gaddam']\n",
            "['Pranay']\n",
            "['.']\n",
            "['I']\n",
            "['am']\n",
            "['pursuing']\n",
            "['my']\n",
            "['masters']\n",
            "['degree']\n",
            "['at']\n",
            "['IIITM']\n",
            "['Gwalior']\n",
            "['.']\n",
            "['I']\n",
            "['like']\n",
            "['the']\n",
            "['course']\n",
            "['curriculum']\n",
            "['of']\n",
            "['it']\n",
            "['Hi everyone this is Gaddam Pranay.']\n",
            "['I am pursuing my masters degree at IIITM Gwalior.']\n",
            "['I like the course curriculum of it']\n"
          ]
        }
      ],
      "source": [
        "!pip install --user -U nltk\n",
        "\n",
        "import nltk\n",
        "nltk.download('punkt')\n",
        "\n",
        "from nltk.tokenize import word_tokenize \n",
        "\n",
        "text = \"\"\"Hi everyone this is Gaddam Pranay. I am pursuing my masters degree at IIITM Gwalior. I like the course curriculum of it\"\"\"\n",
        "\n",
        "word_tokens=word_tokenize(text)\n",
        "for i in word_tokens:\n",
        " print([i])\n",
        "\n",
        "from nltk.tokenize import sent_tokenize\n",
        "\n",
        "sent_tokens=sent_tokenize(text)\n",
        "for i in sent_tokens:\n",
        " print([i])"
      ]
    }
  ]
}
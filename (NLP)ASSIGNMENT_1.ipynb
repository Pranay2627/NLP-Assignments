{
  "nbformat": 4,
  "nbformat_minor": 0,
  "metadata": {
    "colab": {
      "name": "(NLP)ASSIGNMENT-1.ipynb",
      "provenance": []
    },
    "kernelspec": {
      "name": "python3",
      "display_name": "Python 3"
    },
    "language_info": {
      "name": "python"
    }
  },
  "cells": [
    {
      "cell_type": "code",
      "execution_count": 6,
      "metadata": {
        "colab": {
          "base_uri": "https://localhost:8080/"
        },
        "id": "GAkGOwO8Qzdz",
        "outputId": "c93f8658-cd11-4bf1-e204-77a623b16ad9"
      },
      "outputs": [
        {
          "output_type": "stream",
          "name": "stdout",
          "text": [
            "Requirement already satisfied: nltk in /root/.local/lib/python3.7/site-packages (3.6.7)\n",
            "Requirement already satisfied: tqdm in /usr/local/lib/python3.7/dist-packages (from nltk) (4.62.3)\n",
            "Requirement already satisfied: click in /usr/local/lib/python3.7/dist-packages (from nltk) (7.1.2)\n",
            "Requirement already satisfied: regex>=2021.8.3 in /root/.local/lib/python3.7/site-packages (from nltk) (2022.1.18)\n",
            "Requirement already satisfied: joblib in /usr/local/lib/python3.7/dist-packages (from nltk) (1.1.0)\n",
            "[nltk_data] Downloading package punkt to /root/nltk_data...\n",
            "[nltk_data]   Package punkt is already up-to-date!\n",
            "['Hi', 'everyone', 'this', 'is', 'Gaddam', 'Pranay', '.', 'I', 'am', 'pursuing', 'my', 'masters', 'degree', 'at', 'IIITM', 'Gwalior', '.', 'I', 'like', 'the', 'course', 'curriculum', 'of', 'it']\n",
            "['Hi everyone this is Gaddam Pranay.', 'I am pursuing my masters degree at IIITM Gwalior.', 'I like the course curriculum of it']\n"
          ]
        }
      ],
      "source": [
        "!pip install --user -U nltk\n",
        "\n",
        "import nltk\n",
        "nltk.download('punkt')\n",
        "\n",
        "from nltk.tokenize import word_tokenize \n",
        "\n",
        "text = \"\"\"Hi everyone this is Gaddam Pranay. I am pursuing my masters degree at IIITM Gwalior. I like the course curriculum of it\"\"\"\n",
        "\n",
        "word_tokens=word_tokenize(text)\n",
        "print(word_tokens)\n",
        "\n",
        "from nltk.tokenize import sent_tokenize\n",
        "\n",
        "sent_tokens=sent_tokenize(text)\n",
        "print(sent_tokens)"
      ]
    }
  ]
}
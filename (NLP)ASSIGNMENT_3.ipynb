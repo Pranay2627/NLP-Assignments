{
  "nbformat": 4,
  "nbformat_minor": 0,
  "metadata": {
    "colab": {
      "name": "(NLP)ASSIGNMENT_3",
      "provenance": []
    },
    "kernelspec": {
      "name": "python3",
      "display_name": "Python 3"
    },
    "language_info": {
      "name": "python"
    }
  },
  "cells": [
    {
      "cell_type": "markdown",
      "source": [
        "## Gaddam Pranay\n",
        "## 2018IMT-033"
      ],
      "metadata": {
        "id": "UEkFJkidBtgP"
      }
    },
    {
      "cell_type": "code",
      "execution_count": 2,
      "metadata": {
        "colab": {
          "base_uri": "https://localhost:8080/"
        },
        "id": "MjTriOjVBqHb",
        "outputId": "0c649584-81e3-42f9-a2db-d27f01ebaf9f"
      },
      "outputs": [
        {
          "output_type": "stream",
          "name": "stdout",
          "text": [
            "1\n"
          ]
        }
      ],
      "source": [
        "str1 = \"python\"\n",
        "str2 = \"pthon\"\n",
        "m = len(str1)\n",
        "n = len(str2)\n",
        "\n",
        "dp = [[0 for x in range(n + 1)] for x in range(m + 1)]\n",
        "\n",
        "for i in range(m + 1):\n",
        "    for j in range(n + 1):\n",
        "            \n",
        "            if i == 0:\n",
        "                dp[i][j] = j\n",
        "            \n",
        "            elif j == 0:\n",
        "                dp[i][j] = i \n",
        "            \n",
        "            else:\n",
        "                t1 = 1 + dp[i][j-1]\n",
        "                t2 = 1 + dp[i-1][j]\n",
        "                t3 = dp[i-1][j-1] if str1[i-1] == str2[j-1] else 2 + dp[i-1][j-1]\n",
        "                dp[i][j] = min(t1, t2, t3)\n",
        "    \n",
        "\n",
        "print(dp[m][n])"
      ]
    }
  ]
}
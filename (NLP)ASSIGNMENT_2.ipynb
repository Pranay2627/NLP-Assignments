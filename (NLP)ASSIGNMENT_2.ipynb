{
  "nbformat": 4,
  "nbformat_minor": 0,
  "metadata": {
    "colab": {
      "name": "(NLP)ASSIGNMENT-2.ipynb",
      "provenance": [],
      "authorship_tag": "ABX9TyPX7KddJWM1I1XDIGLwqV7n",
      "include_colab_link": true
    },
    "kernelspec": {
      "name": "python3",
      "display_name": "Python 3"
    },
    "language_info": {
      "name": "python"
    }
  },
  "cells": [
    {
      "cell_type": "markdown",
      "metadata": {
        "id": "view-in-github",
        "colab_type": "text"
      },
      "source": [
        "<a href=\"https://colab.research.google.com/github/Pranay2627/NLP-Assignments/blob/main/(NLP)ASSIGNMENT_2.ipynb\" target=\"_parent\"><img src=\"https://colab.research.google.com/assets/colab-badge.svg\" alt=\"Open In Colab\"/></a>"
      ]
    },
    {
      "cell_type": "code",
      "execution_count": 11,
      "metadata": {
        "colab": {
          "base_uri": "https://localhost:8080/"
        },
        "id": "IdMwhgYDmq3S",
        "outputId": "621f06e1-cf79-4dfb-f0a8-fe9df2245803"
      },
      "outputs": [
        {
          "output_type": "stream",
          "name": "stdout",
          "text": [
            "[nltk_data] Downloading package punkt to /root/nltk_data...\n",
            "[nltk_data]   Package punkt is already up-to-date!\n",
            "Enter the string for stemming:\n",
            "The player wants to play the game that i played yesterday\n",
            "\n",
            " \n",
            "String after stemming:\n",
            "the player want to play the game that i play yesterday\n",
            "\n",
            " \n",
            "\n"
          ]
        }
      ],
      "source": [
        "import nltk\n",
        "nltk.download('punkt')\n",
        "from nltk.tokenize import word_tokenize\n",
        "from nltk.stem import PorterStemmer\n",
        "\n",
        "#   initializing Porter stemmer\n",
        "Stem = PorterStemmer()\n",
        "\n",
        "#   Taking user input\n",
        "print(\"Enter the string for stemming:\")\n",
        "entered_text = input()\n",
        "\n",
        "#   Word Tokenization\n",
        "tokenized_input = word_tokenize(entered_text)\n",
        "\n",
        "output = []\n",
        "\n",
        "for token in tokenized_input:\n",
        "    output.append(Stem.stem(token))\n",
        "\n",
        "#   String after stemming\n",
        "print(\"\\n \\nString after stemming:\")\n",
        "print(\" \".join(output))\n",
        "print(\"\\n \\n\")"
      ]
    }
  ]
}